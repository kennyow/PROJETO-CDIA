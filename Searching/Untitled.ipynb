{
 "cells": [
  {
   "cell_type": "code",
   "execution_count": 5,
   "id": "081549cb",
   "metadata": {},
   "outputs": [
    {
     "data": {
      "text/html": [
       "<div>\n",
       "<style scoped>\n",
       "    .dataframe tbody tr th:only-of-type {\n",
       "        vertical-align: middle;\n",
       "    }\n",
       "\n",
       "    .dataframe tbody tr th {\n",
       "        vertical-align: top;\n",
       "    }\n",
       "\n",
       "    .dataframe thead th {\n",
       "        text-align: right;\n",
       "    }\n",
       "</style>\n",
       "<table border=\"1\" class=\"dataframe\">\n",
       "  <thead>\n",
       "    <tr style=\"text-align: right;\">\n",
       "      <th></th>\n",
       "      <th>ID;LIMIT_BAL;SEX;EDUCATION;MARRIAGE;AGE;PAY_0;PAY_2;PAY_3;PAY_4;PAY_5;PAY_6;BILL_AMT1;BILL_AMT2;BILL_AMT3;BILL_AMT4;BILL_AMT5;BILL_AMT6;PAY_AMT1;PAY_AMT2;PAY_AMT3;PAY_AMT4;PAY_AMT5;PAY_AMT6;default payment next month</th>\n",
       "    </tr>\n",
       "  </thead>\n",
       "  <tbody>\n",
       "    <tr>\n",
       "      <th>0</th>\n",
       "      <td>1;20000;2;2;1;24;2;2;-1;-1;-2;-2;3913;3102;689...</td>\n",
       "    </tr>\n",
       "    <tr>\n",
       "      <th>1</th>\n",
       "      <td>2;120000;2;2;2;26;-1;2;0;0;0;2;2682;1725;2682;...</td>\n",
       "    </tr>\n",
       "    <tr>\n",
       "      <th>2</th>\n",
       "      <td>3;90000;2;2;2;34;0;0;0;0;0;0;29239;14027;13559...</td>\n",
       "    </tr>\n",
       "    <tr>\n",
       "      <th>3</th>\n",
       "      <td>4;50000;2;2;1;37;0;0;0;0;0;0;46990;48233;49291...</td>\n",
       "    </tr>\n",
       "    <tr>\n",
       "      <th>4</th>\n",
       "      <td>5;50000;1;2;1;57;-1;0;-1;0;0;0;8617;5670;35835...</td>\n",
       "    </tr>\n",
       "    <tr>\n",
       "      <th>...</th>\n",
       "      <td>...</td>\n",
       "    </tr>\n",
       "    <tr>\n",
       "      <th>29995</th>\n",
       "      <td>29996;220000;1;3;1;39;0;0;0;0;0;0;188948;19281...</td>\n",
       "    </tr>\n",
       "    <tr>\n",
       "      <th>29996</th>\n",
       "      <td>29997;150000;1;3;2;43;-1;-1;-1;-1;0;0;1683;182...</td>\n",
       "    </tr>\n",
       "    <tr>\n",
       "      <th>29997</th>\n",
       "      <td>29998;30000;1;2;2;37;4;3;2;-1;0;0;3565;3356;27...</td>\n",
       "    </tr>\n",
       "    <tr>\n",
       "      <th>29998</th>\n",
       "      <td>29999;80000;1;3;1;41;1;-1;0;0;0;-1;-1645;78379...</td>\n",
       "    </tr>\n",
       "    <tr>\n",
       "      <th>29999</th>\n",
       "      <td>30000;50000;1;2;1;46;0;0;0;0;0;0;47929;48905;4...</td>\n",
       "    </tr>\n",
       "  </tbody>\n",
       "</table>\n",
       "<p>30000 rows × 1 columns</p>\n",
       "</div>"
      ],
      "text/plain": [
       "      ID;LIMIT_BAL;SEX;EDUCATION;MARRIAGE;AGE;PAY_0;PAY_2;PAY_3;PAY_4;PAY_5;PAY_6;BILL_AMT1;BILL_AMT2;BILL_AMT3;BILL_AMT4;BILL_AMT5;BILL_AMT6;PAY_AMT1;PAY_AMT2;PAY_AMT3;PAY_AMT4;PAY_AMT5;PAY_AMT6;default payment next month\n",
       "0      1;20000;2;2;1;24;2;2;-1;-1;-2;-2;3913;3102;689...                                                                                                                                                                      \n",
       "1      2;120000;2;2;2;26;-1;2;0;0;0;2;2682;1725;2682;...                                                                                                                                                                      \n",
       "2      3;90000;2;2;2;34;0;0;0;0;0;0;29239;14027;13559...                                                                                                                                                                      \n",
       "3      4;50000;2;2;1;37;0;0;0;0;0;0;46990;48233;49291...                                                                                                                                                                      \n",
       "4      5;50000;1;2;1;57;-1;0;-1;0;0;0;8617;5670;35835...                                                                                                                                                                      \n",
       "...                                                  ...                                                                                                                                                                      \n",
       "29995  29996;220000;1;3;1;39;0;0;0;0;0;0;188948;19281...                                                                                                                                                                      \n",
       "29996  29997;150000;1;3;2;43;-1;-1;-1;-1;0;0;1683;182...                                                                                                                                                                      \n",
       "29997  29998;30000;1;2;2;37;4;3;2;-1;0;0;3565;3356;27...                                                                                                                                                                      \n",
       "29998  29999;80000;1;3;1;41;1;-1;0;0;0;-1;-1645;78379...                                                                                                                                                                      \n",
       "29999  30000;50000;1;2;1;46;0;0;0;0;0;0;47929;48905;4...                                                                                                                                                                      \n",
       "\n",
       "[30000 rows x 1 columns]"
      ]
     },
     "execution_count": 5,
     "metadata": {},
     "output_type": "execute_result"
    }
   ],
   "source": [
    "import pandas as pd\n",
    "base_cartao = pd.read_csv('data_credit.csv' , header = 1)\n",
    "base_cartao"
   ]
  }
 ],
 "metadata": {
  "kernelspec": {
   "display_name": "Python 3 (ipykernel)",
   "language": "python",
   "name": "python3"
  },
  "language_info": {
   "codemirror_mode": {
    "name": "ipython",
    "version": 3
   },
   "file_extension": ".py",
   "mimetype": "text/x-python",
   "name": "python",
   "nbconvert_exporter": "python",
   "pygments_lexer": "ipython3",
   "version": "3.11.0"
  }
 },
 "nbformat": 4,
 "nbformat_minor": 5
}
