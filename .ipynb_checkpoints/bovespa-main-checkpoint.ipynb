{
 "cells": [
  {
   "cell_type": "code",
   "execution_count": 2,
   "id": "fe2d431b",
   "metadata": {
    "scrolled": true
   },
   "outputs": [
    {
     "name": "stdout",
     "output_type": "stream",
     "text": [
      "Requirement already satisfied: scikit-learn in c:\\users\\kenny\\anaconda3\\lib\\site-packages (1.0.2)\n",
      "Requirement already satisfied: numpy>=1.14.6 in c:\\users\\kenny\\anaconda3\\lib\\site-packages (from scikit-learn) (1.21.5)\n",
      "Requirement already satisfied: scipy>=1.1.0 in c:\\users\\kenny\\anaconda3\\lib\\site-packages (from scikit-learn) (1.7.3)\n",
      "Requirement already satisfied: joblib>=0.11 in c:\\users\\kenny\\anaconda3\\lib\\site-packages (from scikit-learn) (1.1.0)\n",
      "Requirement already satisfied: threadpoolctl>=2.0.0 in c:\\users\\kenny\\anaconda3\\lib\\site-packages (from scikit-learn) (2.2.0)\n"
     ]
    }
   ],
   "source": [
    "!pip install scikit-learn\n",
    "!"
   ]
  },
  {
   "cell_type": "markdown",
   "id": "d2af786d",
   "metadata": {},
   "source": [
    "## Modules (Collections of database)"
   ]
  },
  {
   "cell_type": "code",
   "execution_count": 4,
   "id": "3da4a976",
   "metadata": {
    "colab": {
     "base_uri": "https://localhost:8080/",
     "height": 423
    },
    "id": "3da4a976",
    "outputId": "52aa40fc-2698-408e-bbd5-eafedf7d07c1",
    "scrolled": true
   },
   "outputs": [
    {
     "ename": "FileNotFoundError",
     "evalue": "[Errno 2] No such file or directory: 'C:\\\\Users\\\\kenny\\\\Documents\\\\Projeto CDIA\\\\COTAHIST_A2022.txt'",
     "output_type": "error",
     "traceback": [
      "\u001b[1;31m---------------------------------------------------------------------------\u001b[0m",
      "\u001b[1;31mFileNotFoundError\u001b[0m                         Traceback (most recent call last)",
      "Input \u001b[1;32mIn [4]\u001b[0m, in \u001b[0;36m<cell line: 27>\u001b[1;34m()\u001b[0m\n\u001b[0;32m     23\u001b[0m \u001b[38;5;66;03m## Estrutura do arquivo disponível em \u001b[39;00m\n\u001b[0;32m     24\u001b[0m \u001b[38;5;66;03m## http://www.b3.com.br/data/files/33/67/B9/50/D84057102C784E47AC094EA8/SeriesHistoricas_Layout.pdf\u001b[39;00m\n\u001b[0;32m     25\u001b[0m tamanho_campos\u001b[38;5;241m=\u001b[39m[\u001b[38;5;241m2\u001b[39m,\u001b[38;5;241m8\u001b[39m,\u001b[38;5;241m2\u001b[39m,\u001b[38;5;241m12\u001b[39m,\u001b[38;5;241m3\u001b[39m,\u001b[38;5;241m12\u001b[39m,\u001b[38;5;241m10\u001b[39m,\u001b[38;5;241m3\u001b[39m,\u001b[38;5;241m4\u001b[39m,\u001b[38;5;241m13\u001b[39m,\u001b[38;5;241m13\u001b[39m,\u001b[38;5;241m13\u001b[39m,\u001b[38;5;241m13\u001b[39m,\u001b[38;5;241m13\u001b[39m,\u001b[38;5;241m13\u001b[39m,\u001b[38;5;241m13\u001b[39m,\u001b[38;5;241m5\u001b[39m,\u001b[38;5;241m18\u001b[39m,\u001b[38;5;241m18\u001b[39m,\u001b[38;5;241m13\u001b[39m,\u001b[38;5;241m1\u001b[39m,\u001b[38;5;241m8\u001b[39m,\u001b[38;5;241m7\u001b[39m,\u001b[38;5;241m13\u001b[39m,\u001b[38;5;241m12\u001b[39m,\u001b[38;5;241m3\u001b[39m]\n\u001b[1;32m---> 27\u001b[0m dados_acoes\u001b[38;5;241m=\u001b[39m\u001b[43mpd\u001b[49m\u001b[38;5;241;43m.\u001b[39;49m\u001b[43mread_fwf\u001b[49m\u001b[43m(\u001b[49m\u001b[43marquivo_bovespa\u001b[49m\u001b[43m,\u001b[49m\u001b[43m \u001b[49m\u001b[43mwidths\u001b[49m\u001b[38;5;241;43m=\u001b[39;49m\u001b[43mtamanho_campos\u001b[49m\u001b[43m,\u001b[49m\u001b[43m \u001b[49m\u001b[43mheader\u001b[49m\u001b[38;5;241;43m=\u001b[39;49m\u001b[38;5;241;43m0\u001b[39;49m\u001b[43m)\u001b[49m\n\u001b[0;32m     28\u001b[0m dados_acoes\n",
      "File \u001b[1;32m~\\anaconda3\\lib\\site-packages\\pandas\\util\\_decorators.py:311\u001b[0m, in \u001b[0;36mdeprecate_nonkeyword_arguments.<locals>.decorate.<locals>.wrapper\u001b[1;34m(*args, **kwargs)\u001b[0m\n\u001b[0;32m    305\u001b[0m \u001b[38;5;28;01mif\u001b[39;00m \u001b[38;5;28mlen\u001b[39m(args) \u001b[38;5;241m>\u001b[39m num_allow_args:\n\u001b[0;32m    306\u001b[0m     warnings\u001b[38;5;241m.\u001b[39mwarn(\n\u001b[0;32m    307\u001b[0m         msg\u001b[38;5;241m.\u001b[39mformat(arguments\u001b[38;5;241m=\u001b[39marguments),\n\u001b[0;32m    308\u001b[0m         \u001b[38;5;167;01mFutureWarning\u001b[39;00m,\n\u001b[0;32m    309\u001b[0m         stacklevel\u001b[38;5;241m=\u001b[39mstacklevel,\n\u001b[0;32m    310\u001b[0m     )\n\u001b[1;32m--> 311\u001b[0m \u001b[38;5;28;01mreturn\u001b[39;00m func(\u001b[38;5;241m*\u001b[39margs, \u001b[38;5;241m*\u001b[39m\u001b[38;5;241m*\u001b[39mkwargs)\n",
      "File \u001b[1;32m~\\anaconda3\\lib\\site-packages\\pandas\\io\\parsers\\readers.py:876\u001b[0m, in \u001b[0;36mread_fwf\u001b[1;34m(filepath_or_buffer, colspecs, widths, infer_nrows, **kwds)\u001b[0m\n\u001b[0;32m    874\u001b[0m kwds[\u001b[38;5;124m\"\u001b[39m\u001b[38;5;124minfer_nrows\u001b[39m\u001b[38;5;124m\"\u001b[39m] \u001b[38;5;241m=\u001b[39m infer_nrows\n\u001b[0;32m    875\u001b[0m kwds[\u001b[38;5;124m\"\u001b[39m\u001b[38;5;124mengine\u001b[39m\u001b[38;5;124m\"\u001b[39m] \u001b[38;5;241m=\u001b[39m \u001b[38;5;124m\"\u001b[39m\u001b[38;5;124mpython-fwf\u001b[39m\u001b[38;5;124m\"\u001b[39m\n\u001b[1;32m--> 876\u001b[0m \u001b[38;5;28;01mreturn\u001b[39;00m \u001b[43m_read\u001b[49m\u001b[43m(\u001b[49m\u001b[43mfilepath_or_buffer\u001b[49m\u001b[43m,\u001b[49m\u001b[43m \u001b[49m\u001b[43mkwds\u001b[49m\u001b[43m)\u001b[49m\n",
      "File \u001b[1;32m~\\anaconda3\\lib\\site-packages\\pandas\\io\\parsers\\readers.py:575\u001b[0m, in \u001b[0;36m_read\u001b[1;34m(filepath_or_buffer, kwds)\u001b[0m\n\u001b[0;32m    572\u001b[0m _validate_names(kwds\u001b[38;5;241m.\u001b[39mget(\u001b[38;5;124m\"\u001b[39m\u001b[38;5;124mnames\u001b[39m\u001b[38;5;124m\"\u001b[39m, \u001b[38;5;28;01mNone\u001b[39;00m))\n\u001b[0;32m    574\u001b[0m \u001b[38;5;66;03m# Create the parser.\u001b[39;00m\n\u001b[1;32m--> 575\u001b[0m parser \u001b[38;5;241m=\u001b[39m TextFileReader(filepath_or_buffer, \u001b[38;5;241m*\u001b[39m\u001b[38;5;241m*\u001b[39mkwds)\n\u001b[0;32m    577\u001b[0m \u001b[38;5;28;01mif\u001b[39;00m chunksize \u001b[38;5;129;01mor\u001b[39;00m iterator:\n\u001b[0;32m    578\u001b[0m     \u001b[38;5;28;01mreturn\u001b[39;00m parser\n",
      "File \u001b[1;32m~\\anaconda3\\lib\\site-packages\\pandas\\io\\parsers\\readers.py:933\u001b[0m, in \u001b[0;36mTextFileReader.__init__\u001b[1;34m(self, f, engine, **kwds)\u001b[0m\n\u001b[0;32m    930\u001b[0m     \u001b[38;5;28mself\u001b[39m\u001b[38;5;241m.\u001b[39moptions[\u001b[38;5;124m\"\u001b[39m\u001b[38;5;124mhas_index_names\u001b[39m\u001b[38;5;124m\"\u001b[39m] \u001b[38;5;241m=\u001b[39m kwds[\u001b[38;5;124m\"\u001b[39m\u001b[38;5;124mhas_index_names\u001b[39m\u001b[38;5;124m\"\u001b[39m]\n\u001b[0;32m    932\u001b[0m \u001b[38;5;28mself\u001b[39m\u001b[38;5;241m.\u001b[39mhandles: IOHandles \u001b[38;5;241m|\u001b[39m \u001b[38;5;28;01mNone\u001b[39;00m \u001b[38;5;241m=\u001b[39m \u001b[38;5;28;01mNone\u001b[39;00m\n\u001b[1;32m--> 933\u001b[0m \u001b[38;5;28mself\u001b[39m\u001b[38;5;241m.\u001b[39m_engine \u001b[38;5;241m=\u001b[39m \u001b[38;5;28;43mself\u001b[39;49m\u001b[38;5;241;43m.\u001b[39;49m\u001b[43m_make_engine\u001b[49m\u001b[43m(\u001b[49m\u001b[43mf\u001b[49m\u001b[43m,\u001b[49m\u001b[43m \u001b[49m\u001b[38;5;28;43mself\u001b[39;49m\u001b[38;5;241;43m.\u001b[39;49m\u001b[43mengine\u001b[49m\u001b[43m)\u001b[49m\n",
      "File \u001b[1;32m~\\anaconda3\\lib\\site-packages\\pandas\\io\\parsers\\readers.py:1217\u001b[0m, in \u001b[0;36mTextFileReader._make_engine\u001b[1;34m(self, f, engine)\u001b[0m\n\u001b[0;32m   1213\u001b[0m     mode \u001b[38;5;241m=\u001b[39m \u001b[38;5;124m\"\u001b[39m\u001b[38;5;124mrb\u001b[39m\u001b[38;5;124m\"\u001b[39m\n\u001b[0;32m   1214\u001b[0m \u001b[38;5;66;03m# error: No overload variant of \"get_handle\" matches argument types\u001b[39;00m\n\u001b[0;32m   1215\u001b[0m \u001b[38;5;66;03m# \"Union[str, PathLike[str], ReadCsvBuffer[bytes], ReadCsvBuffer[str]]\"\u001b[39;00m\n\u001b[0;32m   1216\u001b[0m \u001b[38;5;66;03m# , \"str\", \"bool\", \"Any\", \"Any\", \"Any\", \"Any\", \"Any\"\u001b[39;00m\n\u001b[1;32m-> 1217\u001b[0m \u001b[38;5;28mself\u001b[39m\u001b[38;5;241m.\u001b[39mhandles \u001b[38;5;241m=\u001b[39m \u001b[43mget_handle\u001b[49m\u001b[43m(\u001b[49m\u001b[43m  \u001b[49m\u001b[38;5;66;43;03m# type: ignore[call-overload]\u001b[39;49;00m\n\u001b[0;32m   1218\u001b[0m \u001b[43m    \u001b[49m\u001b[43mf\u001b[49m\u001b[43m,\u001b[49m\n\u001b[0;32m   1219\u001b[0m \u001b[43m    \u001b[49m\u001b[43mmode\u001b[49m\u001b[43m,\u001b[49m\n\u001b[0;32m   1220\u001b[0m \u001b[43m    \u001b[49m\u001b[43mencoding\u001b[49m\u001b[38;5;241;43m=\u001b[39;49m\u001b[38;5;28;43mself\u001b[39;49m\u001b[38;5;241;43m.\u001b[39;49m\u001b[43moptions\u001b[49m\u001b[38;5;241;43m.\u001b[39;49m\u001b[43mget\u001b[49m\u001b[43m(\u001b[49m\u001b[38;5;124;43m\"\u001b[39;49m\u001b[38;5;124;43mencoding\u001b[39;49m\u001b[38;5;124;43m\"\u001b[39;49m\u001b[43m,\u001b[49m\u001b[43m \u001b[49m\u001b[38;5;28;43;01mNone\u001b[39;49;00m\u001b[43m)\u001b[49m\u001b[43m,\u001b[49m\n\u001b[0;32m   1221\u001b[0m \u001b[43m    \u001b[49m\u001b[43mcompression\u001b[49m\u001b[38;5;241;43m=\u001b[39;49m\u001b[38;5;28;43mself\u001b[39;49m\u001b[38;5;241;43m.\u001b[39;49m\u001b[43moptions\u001b[49m\u001b[38;5;241;43m.\u001b[39;49m\u001b[43mget\u001b[49m\u001b[43m(\u001b[49m\u001b[38;5;124;43m\"\u001b[39;49m\u001b[38;5;124;43mcompression\u001b[39;49m\u001b[38;5;124;43m\"\u001b[39;49m\u001b[43m,\u001b[49m\u001b[43m \u001b[49m\u001b[38;5;28;43;01mNone\u001b[39;49;00m\u001b[43m)\u001b[49m\u001b[43m,\u001b[49m\n\u001b[0;32m   1222\u001b[0m \u001b[43m    \u001b[49m\u001b[43mmemory_map\u001b[49m\u001b[38;5;241;43m=\u001b[39;49m\u001b[38;5;28;43mself\u001b[39;49m\u001b[38;5;241;43m.\u001b[39;49m\u001b[43moptions\u001b[49m\u001b[38;5;241;43m.\u001b[39;49m\u001b[43mget\u001b[49m\u001b[43m(\u001b[49m\u001b[38;5;124;43m\"\u001b[39;49m\u001b[38;5;124;43mmemory_map\u001b[39;49m\u001b[38;5;124;43m\"\u001b[39;49m\u001b[43m,\u001b[49m\u001b[43m \u001b[49m\u001b[38;5;28;43;01mFalse\u001b[39;49;00m\u001b[43m)\u001b[49m\u001b[43m,\u001b[49m\n\u001b[0;32m   1223\u001b[0m \u001b[43m    \u001b[49m\u001b[43mis_text\u001b[49m\u001b[38;5;241;43m=\u001b[39;49m\u001b[43mis_text\u001b[49m\u001b[43m,\u001b[49m\n\u001b[0;32m   1224\u001b[0m \u001b[43m    \u001b[49m\u001b[43merrors\u001b[49m\u001b[38;5;241;43m=\u001b[39;49m\u001b[38;5;28;43mself\u001b[39;49m\u001b[38;5;241;43m.\u001b[39;49m\u001b[43moptions\u001b[49m\u001b[38;5;241;43m.\u001b[39;49m\u001b[43mget\u001b[49m\u001b[43m(\u001b[49m\u001b[38;5;124;43m\"\u001b[39;49m\u001b[38;5;124;43mencoding_errors\u001b[39;49m\u001b[38;5;124;43m\"\u001b[39;49m\u001b[43m,\u001b[49m\u001b[43m \u001b[49m\u001b[38;5;124;43m\"\u001b[39;49m\u001b[38;5;124;43mstrict\u001b[39;49m\u001b[38;5;124;43m\"\u001b[39;49m\u001b[43m)\u001b[49m\u001b[43m,\u001b[49m\n\u001b[0;32m   1225\u001b[0m \u001b[43m    \u001b[49m\u001b[43mstorage_options\u001b[49m\u001b[38;5;241;43m=\u001b[39;49m\u001b[38;5;28;43mself\u001b[39;49m\u001b[38;5;241;43m.\u001b[39;49m\u001b[43moptions\u001b[49m\u001b[38;5;241;43m.\u001b[39;49m\u001b[43mget\u001b[49m\u001b[43m(\u001b[49m\u001b[38;5;124;43m\"\u001b[39;49m\u001b[38;5;124;43mstorage_options\u001b[39;49m\u001b[38;5;124;43m\"\u001b[39;49m\u001b[43m,\u001b[49m\u001b[43m \u001b[49m\u001b[38;5;28;43;01mNone\u001b[39;49;00m\u001b[43m)\u001b[49m\u001b[43m,\u001b[49m\n\u001b[0;32m   1226\u001b[0m \u001b[43m\u001b[49m\u001b[43m)\u001b[49m\n\u001b[0;32m   1227\u001b[0m \u001b[38;5;28;01massert\u001b[39;00m \u001b[38;5;28mself\u001b[39m\u001b[38;5;241m.\u001b[39mhandles \u001b[38;5;129;01mis\u001b[39;00m \u001b[38;5;129;01mnot\u001b[39;00m \u001b[38;5;28;01mNone\u001b[39;00m\n\u001b[0;32m   1228\u001b[0m f \u001b[38;5;241m=\u001b[39m \u001b[38;5;28mself\u001b[39m\u001b[38;5;241m.\u001b[39mhandles\u001b[38;5;241m.\u001b[39mhandle\n",
      "File \u001b[1;32m~\\anaconda3\\lib\\site-packages\\pandas\\io\\common.py:789\u001b[0m, in \u001b[0;36mget_handle\u001b[1;34m(path_or_buf, mode, encoding, compression, memory_map, is_text, errors, storage_options)\u001b[0m\n\u001b[0;32m    784\u001b[0m \u001b[38;5;28;01melif\u001b[39;00m \u001b[38;5;28misinstance\u001b[39m(handle, \u001b[38;5;28mstr\u001b[39m):\n\u001b[0;32m    785\u001b[0m     \u001b[38;5;66;03m# Check whether the filename is to be opened in binary mode.\u001b[39;00m\n\u001b[0;32m    786\u001b[0m     \u001b[38;5;66;03m# Binary mode does not support 'encoding' and 'newline'.\u001b[39;00m\n\u001b[0;32m    787\u001b[0m     \u001b[38;5;28;01mif\u001b[39;00m ioargs\u001b[38;5;241m.\u001b[39mencoding \u001b[38;5;129;01mand\u001b[39;00m \u001b[38;5;124m\"\u001b[39m\u001b[38;5;124mb\u001b[39m\u001b[38;5;124m\"\u001b[39m \u001b[38;5;129;01mnot\u001b[39;00m \u001b[38;5;129;01min\u001b[39;00m ioargs\u001b[38;5;241m.\u001b[39mmode:\n\u001b[0;32m    788\u001b[0m         \u001b[38;5;66;03m# Encoding\u001b[39;00m\n\u001b[1;32m--> 789\u001b[0m         handle \u001b[38;5;241m=\u001b[39m \u001b[38;5;28;43mopen\u001b[39;49m\u001b[43m(\u001b[49m\n\u001b[0;32m    790\u001b[0m \u001b[43m            \u001b[49m\u001b[43mhandle\u001b[49m\u001b[43m,\u001b[49m\n\u001b[0;32m    791\u001b[0m \u001b[43m            \u001b[49m\u001b[43mioargs\u001b[49m\u001b[38;5;241;43m.\u001b[39;49m\u001b[43mmode\u001b[49m\u001b[43m,\u001b[49m\n\u001b[0;32m    792\u001b[0m \u001b[43m            \u001b[49m\u001b[43mencoding\u001b[49m\u001b[38;5;241;43m=\u001b[39;49m\u001b[43mioargs\u001b[49m\u001b[38;5;241;43m.\u001b[39;49m\u001b[43mencoding\u001b[49m\u001b[43m,\u001b[49m\n\u001b[0;32m    793\u001b[0m \u001b[43m            \u001b[49m\u001b[43merrors\u001b[49m\u001b[38;5;241;43m=\u001b[39;49m\u001b[43merrors\u001b[49m\u001b[43m,\u001b[49m\n\u001b[0;32m    794\u001b[0m \u001b[43m            \u001b[49m\u001b[43mnewline\u001b[49m\u001b[38;5;241;43m=\u001b[39;49m\u001b[38;5;124;43m\"\u001b[39;49m\u001b[38;5;124;43m\"\u001b[39;49m\u001b[43m,\u001b[49m\n\u001b[0;32m    795\u001b[0m \u001b[43m        \u001b[49m\u001b[43m)\u001b[49m\n\u001b[0;32m    796\u001b[0m     \u001b[38;5;28;01melse\u001b[39;00m:\n\u001b[0;32m    797\u001b[0m         \u001b[38;5;66;03m# Binary mode\u001b[39;00m\n\u001b[0;32m    798\u001b[0m         handle \u001b[38;5;241m=\u001b[39m \u001b[38;5;28mopen\u001b[39m(handle, ioargs\u001b[38;5;241m.\u001b[39mmode)\n",
      "\u001b[1;31mFileNotFoundError\u001b[0m: [Errno 2] No such file or directory: 'C:\\\\Users\\\\kenny\\\\Documents\\\\Projeto CDIA\\\\COTAHIST_A2022.txt'"
     ]
    }
   ],
   "source": [
    "#Data Vizualizations\n",
    "import seaborn as sns \n",
    "import plotly.express as px\n",
    "import plotly.graph_objects as go\n",
    "import matplotlib.pyplot as plt\n",
    "\n",
    "#Machine Learning Library\n",
    "from sklearn.datasets import make_blobs # function to generate aleatory dataset\n",
    "from sklearn.cluster import KMeans\n",
    "from sklearn.preprocessing import StandardScaler\n",
    "import sklearn\n",
    "\n",
    "#Math and Linear Algebra\n",
    "import numpy as np\n",
    "from math import sqrt\n",
    "#Create DataFrames\n",
    "import pandas as pd\n",
    "## Séries históricas disponíveis em\n",
    "## http://www.b3.com.br/pt_br/market-data-e-indices/servicos-de-dados/market-data/historico/mercado-a-vista/series-historicas/\n",
    "arquivo_bovespa = (r'C:\\Users\\kenny\\Documents\\Projeto CDIA\\COTAHIST_A2022.txt')\n",
    "\n",
    "\n",
    "## Estrutura do arquivo disponível em \n",
    "## http://www.b3.com.br/data/files/33/67/B9/50/D84057102C784E47AC094EA8/SeriesHistoricas_Layout.pdf\n",
    "tamanho_campos=[2,8,2,12,3,12,10,3,4,13,13,13,13,13,13,13,5,18,18,13,1,8,7,13,12,3]\n",
    "\n",
    "dados_acoes=pd.read_fwf(arquivo_bovespa, widths=tamanho_campos, header=0)\n",
    "dados_acoes"
   ]
  },
  {
   "cell_type": "markdown",
   "id": "86aa136c",
   "metadata": {},
   "source": [
    "<blockquote>Those datas are from Bovespa, in October of the year 2022<blockquote>"
   ]
  },
  {
   "cell_type": "code",
   "execution_count": null,
   "id": "ffe5v1fdDXWx",
   "metadata": {
    "colab": {
     "base_uri": "https://localhost:8080/"
    },
    "id": "ffe5v1fdDXWx",
    "outputId": "6ec422a2-001d-42d3-cf30-80ddf1a1ffb6"
   },
   "outputs": [],
   "source": [
    "#from google.colab import drive\n",
    "#drive.mount('/content/drive')"
   ]
  },
  {
   "cell_type": "markdown",
   "id": "Ixa8c3jiGIDg",
   "metadata": {
    "id": "Ixa8c3jiGIDg"
   },
   "source": [
    "## Pre-processing of data \n",
    "\n",
    "#### Stage 1 - Structuring\n",
    "\n",
    " "
   ]
  },
  {
   "cell_type": "markdown",
   "id": "yma3qTZ-OESQ",
   "metadata": {
    "id": "yma3qTZ-OESQ"
   },
   "source": [
    "##### Appoint columns, delete last line and adapt valus with comma"
   ]
  },
  {
   "cell_type": "code",
   "execution_count": null,
   "id": "49df83c4",
   "metadata": {
    "colab": {
     "base_uri": "https://localhost:8080/",
     "height": 522
    },
    "id": "49df83c4",
    "outputId": "ee882581-2ad2-411a-be72-72cee0a353bd"
   },
   "outputs": [],
   "source": [
    "## Nomear as colunas\n",
    "\n",
    "dados_acoes.columns = [\n",
    "\"tipo_registro\",\n",
    "\"data_pregao\",\n",
    "\"cod_bdi\",\n",
    "\"cod_negociacao\",\n",
    "\"tipo_mercado\",\n",
    "\"empresa\",\n",
    "\"especificacao_papel\",\n",
    "\"prazo_dias_merc_termo\",\n",
    "\"moeda_referencia\",\n",
    "\"preco_abertura\",\n",
    "\"preco_maximo\",\n",
    "\"preco_minimo\",\n",
    "\"preco_medio\",\n",
    "\"preco_ultimo_negocio\",\n",
    "\"preco_melhor_oferta_compra\",\n",
    "\"preco_melhor_oferta_venda\",\n",
    "\"numero_negocios\",\n",
    "\"quantidade_papeis_negociados\",\n",
    "\"volume_total_negociado\",\n",
    "\"preco_exercicio\",\n",
    "\"ìndicador_correcao_precos\",\n",
    "\"data_vencimento\" ,\n",
    "\"fator_cotacao\",\n",
    "\"preco_exercicio_pontos\",\n",
    "\"codigo_isin\",\n",
    "\"num_distribuicao_papel\"]\n",
    "\n",
    "# Eliminar a última linha\n",
    "linha=len(dados_acoes[\"data_pregao\"])\n",
    "dados_acoes=dados_acoes.drop(linha-1)\n",
    "\n",
    "# Ajustar valores com virgula (dividir os valores dessas colunas por 100)\n",
    "listaVirgula=[\n",
    "\"preco_abertura\",\n",
    "\"preco_maximo\",\n",
    "\"preco_minimo\",\n",
    "\"preco_medio\",\n",
    "\"preco_ultimo_negocio\",\n",
    "\"preco_melhor_oferta_compra\",\n",
    "\"preco_melhor_oferta_venda\",\n",
    "\"volume_total_negociado\",\n",
    "\"preco_exercicio\",\n",
    "\"preco_exercicio_pontos\"\n",
    "]\n",
    "\n",
    "for coluna in listaVirgula:\n",
    "    dados_acoes[coluna]=[i/100. for i in dados_acoes[coluna]]\n"
   ]
  },
  {
   "cell_type": "markdown",
   "id": "kvmxmEJlOBMQ",
   "metadata": {
    "id": "kvmxmEJlOBMQ"
   },
   "source": [
    "##### Data types"
   ]
  },
  {
   "cell_type": "code",
   "execution_count": null,
   "id": "CNxUGRsbMpuY",
   "metadata": {
    "colab": {
     "base_uri": "https://localhost:8080/"
    },
    "id": "CNxUGRsbMpuY",
    "outputId": "b1c6145c-aa7b-4e9d-a603-0b5666a1ae8f"
   },
   "outputs": [],
   "source": [
    "## Informações das variáveis\n",
    "dados_acoes.info()\n",
    "\n",
    "## Corrigir tipos de dados\n",
    "#dados_acoes[\"data_pregao\"]  = pd.to_datetime(dados_acoes[\"data_pregao\"],infer_datetime_format=True) #Transforma para o tipo datetime64\n",
    "dados_acoes[\"cod_negociacao\"] = dados_acoes[\"cod_negociacao\"].astype('|S') #Transforma o objeto em string\n",
    "#dados_acoes[\"empresa\"] = dados_acoes[\"empresa\"].astype('|S') #Transforma o objeto em string\n",
    "dados_acoes[\"codigo_isin\"] = dados_acoes[\"codigo_isin\"].astype('|S') #Transforma o objeto em string\n",
    "\n",
    "\n",
    "dados_acoes.info()"
   ]
  },
  {
   "cell_type": "markdown",
   "id": "4fKUpXnzLKdw",
   "metadata": {
    "id": "4fKUpXnzLKdw"
   },
   "source": [
    "#### Stage 2 - Remove Missing Data"
   ]
  },
  {
   "cell_type": "code",
   "execution_count": null,
   "id": "_BTQMfMDI8Ew",
   "metadata": {
    "colab": {
     "base_uri": "https://localhost:8080/"
    },
    "id": "_BTQMfMDI8Ew",
    "outputId": "477c59f0-cca7-4032-d574-51a92891d926"
   },
   "outputs": [],
   "source": [
    "#Identificar dados faltantes\n",
    "dados_acoes.isnull().sum()"
   ]
  },
  {
   "cell_type": "code",
   "execution_count": null,
   "id": "7mAdMCE2I6Wg",
   "metadata": {
    "colab": {
     "base_uri": "https://localhost:8080/"
    },
    "id": "7mAdMCE2I6Wg",
    "outputId": "bec2b543-4e1f-43a0-b93f-344cfd94520d"
   },
   "outputs": [],
   "source": [
    "## Remover dados faltantes\n",
    "dados_acoes = dados_acoes.dropna(axis=1)\n",
    "dados_acoes.isnull().sum()"
   ]
  },
  {
   "cell_type": "markdown",
   "id": "vu7YQMXBI1XB",
   "metadata": {
    "id": "vu7YQMXBI1XB"
   },
   "source": [
    "##### Representação Gráfica e Análise Descritiva"
   ]
  },
  {
   "cell_type": "code",
   "execution_count": null,
   "id": "VHt1nLnIWrC7",
   "metadata": {
    "id": "VHt1nLnIWrC7"
   },
   "outputs": [],
   "source": []
  },
  {
   "cell_type": "markdown",
   "id": "0UxWmWduVLJR",
   "metadata": {
    "id": "0UxWmWduVLJR"
   },
   "source": [
    "###### Anlysis of column \"Indicadores de Correção de Preços\""
   ]
  },
  {
   "cell_type": "code",
   "execution_count": null,
   "id": "S5fcOaCGQwK5",
   "metadata": {
    "colab": {
     "base_uri": "https://localhost:8080/",
     "height": 302
    },
    "id": "S5fcOaCGQwK5",
    "outputId": "ce03c589-3074-4a70-9a0b-90fda05f6beb"
   },
   "outputs": [],
   "source": [
    "# Parecem haver dados ruidosos aqui\n",
    "plt.hist(x = dados_acoes[\"ìndicador_correcao_precos\"], rwidth = 0.2)\n",
    "indicador_correcao_precos = {\n",
    "    \"mode\" : dados_acoes[\"ìndicador_correcao_precos\"].mode() ,\n",
    "    \"mean\" : dados_acoes[\"ìndicador_correcao_precos\"].mean() ,\n",
    "    \"meadian\" : dados_acoes[\"ìndicador_correcao_precos\"].median()\n",
    "}\n",
    "# Essa coluna não revela nada relevante\n",
    "print(indicador_correcao_precos)\n",
    "#Remoção da coluna dados_acoes[\"ìndicador_correcao_precos\"]\n",
    "dados_acoes = dados_acoes.drop([\"ìndicador_correcao_precos\"], axis = \"columns\")"
   ]
  },
  {
   "cell_type": "markdown",
   "id": "2fB-sFReVQvo",
   "metadata": {
    "id": "2fB-sFReVQvo"
   },
   "source": [
    "###### Analysis of column \"preco_exercicio_pontos\""
   ]
  },
  {
   "cell_type": "code",
   "execution_count": null,
   "id": "3ZY4ABVPVDBD",
   "metadata": {
    "colab": {
     "base_uri": "https://localhost:8080/",
     "height": 315
    },
    "id": "3ZY4ABVPVDBD",
    "outputId": "5b9dddbd-474f-4242-d8ec-5fb9a463de66"
   },
   "outputs": [],
   "source": [
    "# Parecem haver dados ruidosos aqui\n",
    "plt.hist(x = dados_acoes[\"preco_exercicio_pontos\"], rwidth = 0.2)\n",
    "preco_exercicio_pontos = {\n",
    "    \"mode\" : dados_acoes[\"preco_exercicio_pontos\"].mode() ,\n",
    "    \"mean\" : dados_acoes[\"preco_exercicio_pontos\"].mean() ,\n",
    "    \"meadian\" : dados_acoes[\"preco_exercicio_pontos\"].median()\n",
    "}\n",
    "# Essa coluna não revela nada relevante\n",
    "print(preco_exercicio_pontos)\n",
    "# Remoção da coluna\n",
    "dados_acoes = dados_acoes.drop([\"preco_exercicio_pontos\"], axis = \"columns\")"
   ]
  },
  {
   "cell_type": "code",
   "execution_count": null,
   "id": "VjRbtuQdWPGa",
   "metadata": {
    "colab": {
     "base_uri": "https://localhost:8080/",
     "height": 522
    },
    "id": "VjRbtuQdWPGa",
    "outputId": "de7d7811-545a-42d5-89b7-13f40d0baa4f"
   },
   "outputs": [],
   "source": [
    "dados_acoes = dados_acoes.sort_values(by=['data_pregao'])\n",
    "dados_acoes"
   ]
  },
  {
   "cell_type": "markdown",
   "id": "58fe74ba",
   "metadata": {},
   "source": [
    "#### > Those columns won't be usefull for data analysis, that's why we'll be removing it from the dataset"
   ]
  },
  {
   "cell_type": "code",
   "execution_count": null,
   "id": "b7ac16eb",
   "metadata": {
    "id": "b7ac16eb"
   },
   "outputs": [],
   "source": [
    "dados_acoes.drop([\"moeda_referencia\"], axis=1, inplace=True)\n",
    "dados_acoes.drop([\"fator_cotacao\"], axis=1, inplace=True)"
   ]
  },
  {
   "cell_type": "markdown",
   "id": "3caf6cb3",
   "metadata": {},
   "source": [
    "#### > Narrow the data by company"
   ]
  },
  {
   "cell_type": "code",
   "execution_count": null,
   "id": "d8174b30",
   "metadata": {
    "colab": {
     "base_uri": "https://localhost:8080/"
    },
    "id": "d8174b30",
    "outputId": "d550616d-094a-45ca-80ec-0fd4ecbd2ac4"
   },
   "outputs": [],
   "source": [
    "x = dados_acoes[\"empresa\"].value_counts()"
   ]
  },
  {
   "cell_type": "code",
   "execution_count": null,
   "id": "24824688",
   "metadata": {},
   "outputs": [],
   "source": [
    "x[1:15]"
   ]
  },
  {
   "cell_type": "markdown",
   "id": "36a3872d",
   "metadata": {},
   "source": [
    "##### >> In this case: PETRE"
   ]
  },
  {
   "cell_type": "code",
   "execution_count": null,
   "id": "05a56736",
   "metadata": {
    "id": "05a56736"
   },
   "outputs": [],
   "source": [
    "empresa_1 = dados_acoes[dados_acoes[\"empresa\"] == \"PETRE\"]"
   ]
  },
  {
   "cell_type": "markdown",
   "id": "c40edec8",
   "metadata": {
    "id": "c40edec8"
   },
   "source": [
    "## Como estão centrados os preços dos últimos negocios da PETRE?"
   ]
  },
  {
   "cell_type": "markdown",
   "id": "d245a97b",
   "metadata": {
    "id": "d245a97b"
   },
   "source": [
    "#### Primeiro os dados dos preços do últimos negócios serão alocados para um objeto Series unidimensional "
   ]
  },
  {
   "cell_type": "code",
   "execution_count": null,
   "id": "2c59d04a",
   "metadata": {
    "colab": {
     "base_uri": "https://localhost:8080/"
    },
    "id": "2c59d04a",
    "outputId": "0e9d76ca-58f5-4d3d-ec3e-26a38c5bc3c7"
   },
   "outputs": [],
   "source": [
    "PETRE = empresa_1[\"preco_ultimo_negocio\"]\n",
    "PETRE_arr = np.array(PETRE)\n",
    "type(PETRE)\n",
    "type(PETRE_arr)\n",
    "\n",
    "#Ordenar preço dos últimos negócios da PETRE\n",
    "PETRE_arr.sort()\n",
    "print(PETRE_arr)"
   ]
  },
  {
   "cell_type": "code",
   "execution_count": null,
   "id": "80547795",
   "metadata": {
    "colab": {
     "base_uri": "https://localhost:8080/"
    },
    "id": "80547795",
    "outputId": "d5603b66-56ef-4c41-9478-29eb328650ff"
   },
   "outputs": [],
   "source": [
    "PETRE.describe()"
   ]
  },
  {
   "cell_type": "markdown",
   "id": "ceaf8c73",
   "metadata": {
    "id": "ceaf8c73"
   },
   "source": [
    "#### O dicionário \"central_tendency_measures\" contém dados das medidas de tendência central do Series em questão"
   ]
  },
  {
   "cell_type": "code",
   "execution_count": null,
   "id": "40865daf",
   "metadata": {
    "colab": {
     "base_uri": "https://localhost:8080/"
    },
    "id": "40865daf",
    "outputId": "ceee9297-df23-4fb5-c301-5bd592cb200f"
   },
   "outputs": [],
   "source": [
    "\n",
    "central_tendency_measures = {\n",
    "    \"mean\": PETRE.mean(),\n",
    "    \"mode\": PETRE.mode(dropna = True),\n",
    "    \"median\": PETRE.median(), \n",
    "    \"max\": PETRE.max(),\n",
    "    \"min\": PETRE.min(),\n",
    "}\n",
    "pd.Series(central_tendency_measures)"
   ]
  },
  {
   "cell_type": "markdown",
   "id": "38ece510",
   "metadata": {
    "id": "38ece510"
   },
   "source": [
    "## How PETRE's actions are distributed\n"
   ]
  },
  {
   "cell_type": "markdown",
   "id": "453838c0",
   "metadata": {
    "id": "453838c0"
   },
   "source": [
    "#### Variability Measures\n",
    "Is there any uniformity between the measures that was found?"
   ]
  },
  {
   "cell_type": "code",
   "execution_count": null,
   "id": "a7e32589",
   "metadata": {
    "colab": {
     "base_uri": "https://localhost:8080/"
    },
    "id": "a7e32589",
    "outputId": "46e54640-5513-480c-ab1e-dd6b9220f6ce"
   },
   "outputs": [],
   "source": [
    "'''\n",
    "# output: [ 1  1  0  4 -5]\n",
    "variability_measures = {\n",
    "    \"variance\" : PETRE.var(),\n",
    "    \"standard deviation\": PETRE.std(),\n",
    "    \"shifiting_range\" : np.unique(shifting.shifting_range(PETRE_arr)),\n",
    "    \"CV\" : variation(PETRE)\n",
    "}\n",
    "pd.Series(variability_measures)\n",
    "'''"
   ]
  },
  {
   "cell_type": "markdown",
   "id": "b257391d",
   "metadata": {
    "id": "b257391d"
   },
   "source": [
    "#### A média está centralizada?\n"
   ]
  },
  {
   "cell_type": "code",
   "execution_count": null,
   "id": "e7b1edee",
   "metadata": {
    "id": "e7b1edee"
   },
   "outputs": [],
   "source": [
    "#Criar um gráfico que\n",
    "    #Exibe a diferença entre o coeficiente de variação, a média e o desvio padrão\n",
    "    "
   ]
  },
  {
   "cell_type": "markdown",
   "id": "d6f9710a",
   "metadata": {},
   "source": [
    "# - Inicial Exploration\n",
    "##  Analysis of the company \"Petrobrás\" in October"
   ]
  },
  {
   "cell_type": "markdown",
   "id": "d33652f2",
   "metadata": {},
   "source": [
    "### > Last traded price (Preço de último negócio)"
   ]
  },
  {
   "cell_type": "code",
   "execution_count": null,
   "id": "35222974",
   "metadata": {
    "colab": {
     "base_uri": "https://localhost:8080/",
     "height": 298
    },
    "id": "35222974",
    "outputId": "525f3c83-2f68-4537-8367-fad1d25796e2"
   },
   "outputs": [],
   "source": [
    "boxplot_empresa1_precoultimo_plt = sns.boxplot(x=empresa_1[\"preco_ultimo_negocio\"]) # colocando o boxplot numa variável para manipular melhor\n",
    "boxplot_empresa1_precoultimo_plt.set_ylabel('Outubro', fontsize=14) # Aqui você renomeia o eixo que deseja e o tamanho da fonte\n",
    "\n",
    "boxplot_empresa1_precoultimo_plt.plot() # Aqui é como se o gráfico fosse ocultado até ser usado plt.show()\n",
    "\n",
    "# em R$ - Reais\n",
    "plt.title('Últimos preços negociados da PETRE') # O título que se deseja colocar acima do gráfico\n",
    "\n",
    "plt.show() # Impressão do gráfico"
   ]
  },
  {
   "cell_type": "markdown",
   "id": "919390da",
   "metadata": {},
   "source": [
    "### > Total trading volume (Volume total negociado)"
   ]
  },
  {
   "cell_type": "code",
   "execution_count": null,
   "id": "86d86262",
   "metadata": {
    "colab": {
     "base_uri": "https://localhost:8080/"
    },
    "id": "86d86262",
    "outputId": "d59bb4e3-4017-48bf-da8c-200c0a8d25c6"
   },
   "outputs": [],
   "source": [
    "empresa_1[\"volume_total_negociado\"].std()"
   ]
  },
  {
   "cell_type": "code",
   "execution_count": null,
   "id": "e2e7ee5e",
   "metadata": {
    "colab": {
     "base_uri": "https://localhost:8080/"
    },
    "id": "e2e7ee5e",
    "outputId": "fa2366fa-13ce-4d9a-f069-f503417aa863"
   },
   "outputs": [],
   "source": [
    "empresa_1[\"volume_total_negociado\"].mean()"
   ]
  },
  {
   "cell_type": "code",
   "execution_count": null,
   "id": "dedd841b",
   "metadata": {
    "colab": {
     "base_uri": "https://localhost:8080/"
    },
    "id": "dedd841b",
    "outputId": "896b29ce-52fe-4db7-f65f-1883041c5ed0"
   },
   "outputs": [],
   "source": [
    "empresa_1[\"volume_total_negociado\"].median()"
   ]
  },
  {
   "cell_type": "code",
   "execution_count": null,
   "id": "1747a428",
   "metadata": {
    "colab": {
     "base_uri": "https://localhost:8080/",
     "height": 296
    },
    "id": "1747a428",
    "outputId": "9bd53f4e-6ae2-4146-8d26-65ca992e03b6"
   },
   "outputs": [],
   "source": [
    "boxplot_empresa1_volumetotal_plt = sns.boxplot(x=empresa_1[\"volume_total_negociado\"])\n",
    "boxplot_empresa1_volumetotal_plt.set_ylabel('Outubro', fontsize=14)\n",
    "\n",
    "boxplot_empresa1_volumetotal_plt.plot()\n",
    "\n",
    "\n",
    "plt.title('Volume total negociado da PETRE em milhões')\n",
    "\n",
    "plt.show()"
   ]
  },
  {
   "cell_type": "markdown",
   "id": "633b0d0b",
   "metadata": {},
   "source": [
    "### > Number of Trades (Número de negócios)"
   ]
  },
  {
   "cell_type": "code",
   "execution_count": null,
   "id": "a36f905f",
   "metadata": {
    "colab": {
     "base_uri": "https://localhost:8080/"
    },
    "id": "a36f905f",
    "outputId": "bbe01701-e257-4037-fd35-5899da605a37"
   },
   "outputs": [],
   "source": [
    "empresa_1[\"numero_negocios\"].std()"
   ]
  },
  {
   "cell_type": "code",
   "execution_count": null,
   "id": "5653ffaa",
   "metadata": {
    "colab": {
     "base_uri": "https://localhost:8080/"
    },
    "id": "5653ffaa",
    "outputId": "7298405c-a53a-47fe-b64e-8a5f2450816a"
   },
   "outputs": [],
   "source": [
    "empresa_1[\"numero_negocios\"].mean()"
   ]
  },
  {
   "cell_type": "code",
   "execution_count": null,
   "id": "049d160b",
   "metadata": {
    "colab": {
     "base_uri": "https://localhost:8080/"
    },
    "id": "049d160b",
    "outputId": "5c859dbe-578b-4225-bc43-4c99c0739ca8"
   },
   "outputs": [],
   "source": [
    "empresa_1[\"numero_negocios\"].median()"
   ]
  },
  {
   "cell_type": "code",
   "execution_count": null,
   "id": "3f747307",
   "metadata": {
    "colab": {
     "base_uri": "https://localhost:8080/",
     "height": 296
    },
    "id": "3f747307",
    "outputId": "f7afc52a-c2d9-46c1-cac3-cf7731e68587"
   },
   "outputs": [],
   "source": [
    "boxplot_empresa1_numeronegocios_plt = sns.boxplot(x=empresa_1[\"numero_negocios\"])\n",
    "boxplot_empresa1_numeronegocios_plt.set_ylabel('Outubro', fontsize=14)\n",
    "\n",
    "boxplot_empresa1_numeronegocios_plt.plot()\n",
    "\n",
    "\n",
    "plt.title('Número de négocios da PETRE')\n",
    "\n",
    "plt.show()"
   ]
  },
  {
   "cell_type": "markdown",
   "id": "59c452f8",
   "metadata": {},
   "source": [
    "### > Maximum Closing Prices (Preço máximo das ações)"
   ]
  },
  {
   "cell_type": "code",
   "execution_count": null,
   "id": "b4fd18b1",
   "metadata": {
    "colab": {
     "base_uri": "https://localhost:8080/"
    },
    "id": "b4fd18b1",
    "outputId": "893e7c5a-8a98-4fd3-9814-4b1db676a493"
   },
   "outputs": [],
   "source": [
    "empresa_1[\"preco_maximo\"].std()"
   ]
  },
  {
   "cell_type": "code",
   "execution_count": null,
   "id": "c957b70a",
   "metadata": {
    "colab": {
     "base_uri": "https://localhost:8080/"
    },
    "id": "c957b70a",
    "outputId": "12c9fc8a-2f82-4a7c-fdbd-be5e0ab65ea3"
   },
   "outputs": [],
   "source": [
    "empresa_1[\"preco_maximo\"].mean()"
   ]
  },
  {
   "cell_type": "code",
   "execution_count": null,
   "id": "df75f8e7",
   "metadata": {
    "colab": {
     "base_uri": "https://localhost:8080/"
    },
    "id": "df75f8e7",
    "outputId": "4437ca19-dba4-4132-cd5e-9f9dcd2a9f47"
   },
   "outputs": [],
   "source": [
    "empresa_1[\"preco_maximo\"].median()"
   ]
  },
  {
   "cell_type": "code",
   "execution_count": null,
   "id": "7cdc9a2f",
   "metadata": {
    "colab": {
     "base_uri": "https://localhost:8080/",
     "height": 296
    },
    "id": "7cdc9a2f",
    "outputId": "17394fe1-1419-4e7f-f023-876dca50398f"
   },
   "outputs": [],
   "source": [
    "boxplot_empresa1_maximo_plt = sns.boxplot(x = empresa_1[\"preco_maximo\"])\n",
    "boxplot_empresa1_maximo_plt.set_ylabel('Outubro', fontsize=14)\n",
    "\n",
    "boxplot_empresa1_maximo_plt.plot()\n",
    "\n",
    "\n",
    "plt.title('Preço máximo da PETRE') # em R$ - Reais\n",
    "\n",
    "plt.show()"
   ]
  },
  {
   "cell_type": "markdown",
   "id": "878a9429",
   "metadata": {},
   "source": [
    "### > Minimum Closing Prices (Preço mínimo das ações)"
   ]
  },
  {
   "cell_type": "code",
   "execution_count": null,
   "id": "67c427b5",
   "metadata": {
    "colab": {
     "base_uri": "https://localhost:8080/"
    },
    "id": "67c427b5",
    "outputId": "10385c76-5ecd-4e6f-d707-66c336229f38"
   },
   "outputs": [],
   "source": [
    "empresa_1[\"preco_minimo\"].std()"
   ]
  },
  {
   "cell_type": "code",
   "execution_count": null,
   "id": "ee3828b7",
   "metadata": {
    "colab": {
     "base_uri": "https://localhost:8080/"
    },
    "id": "ee3828b7",
    "outputId": "cfcfdee1-b69f-4b68-e2c3-a3a7a85e98e6"
   },
   "outputs": [],
   "source": [
    "empresa_1[\"preco_minimo\"].mean()"
   ]
  },
  {
   "cell_type": "code",
   "execution_count": null,
   "id": "2fa88159",
   "metadata": {
    "colab": {
     "base_uri": "https://localhost:8080/"
    },
    "id": "2fa88159",
    "outputId": "8fceac40-7eae-410e-95b5-66151bd93ffb"
   },
   "outputs": [],
   "source": [
    "empresa_1[\"preco_minimo\"].median()"
   ]
  },
  {
   "cell_type": "code",
   "execution_count": null,
   "id": "aee2eb8c",
   "metadata": {
    "colab": {
     "base_uri": "https://localhost:8080/",
     "height": 296
    },
    "id": "aee2eb8c",
    "outputId": "fabad87a-4af0-44ec-fbde-283f051ffe25"
   },
   "outputs": [],
   "source": [
    "boxplot_empresa1_minimo_plt = sns.boxplot(x = empresa_1[\"preco_minimo\"])\n",
    "boxplot_empresa1_minimo_plt.set_ylabel('Outubro', fontsize=14)\n",
    "\n",
    "boxplot_empresa1_minimo_plt.plot()\n",
    "\n",
    "\n",
    "plt.title('Preço minímo da PETRE') # em R$ - Reais\n",
    "\n",
    "plt.show()"
   ]
  },
  {
   "cell_type": "markdown",
   "id": "b5c0f0dc",
   "metadata": {},
   "source": [
    "### > Stock Opening Price (Preço de abertura das ações)"
   ]
  },
  {
   "cell_type": "code",
   "execution_count": null,
   "id": "0f88a5f9",
   "metadata": {
    "colab": {
     "base_uri": "https://localhost:8080/"
    },
    "id": "0f88a5f9",
    "outputId": "4eef3024-c43b-4c9c-e735-3b57f316d7a1"
   },
   "outputs": [],
   "source": [
    "empresa_1[\"preco_abertura\"].mean()"
   ]
  },
  {
   "cell_type": "code",
   "execution_count": null,
   "id": "d03fd816",
   "metadata": {
    "colab": {
     "base_uri": "https://localhost:8080/"
    },
    "id": "d03fd816",
    "outputId": "e53d3129-bb8a-4c48-f92c-64fdf3c2cbee"
   },
   "outputs": [],
   "source": [
    "empresa_1[\"preco_abertura\"].std()"
   ]
  },
  {
   "cell_type": "code",
   "execution_count": null,
   "id": "04d07503",
   "metadata": {
    "colab": {
     "base_uri": "https://localhost:8080/"
    },
    "id": "04d07503",
    "outputId": "7be2f743-b9fc-4fdd-fab9-e0430ac695dd"
   },
   "outputs": [],
   "source": [
    "empresa_1[\"preco_abertura\"].median()"
   ]
  },
  {
   "cell_type": "code",
   "execution_count": null,
   "id": "1e84cf50",
   "metadata": {
    "colab": {
     "base_uri": "https://localhost:8080/",
     "height": 296
    },
    "id": "1e84cf50",
    "outputId": "d0516aa1-472a-40a5-baa4-8d714ada5e8c"
   },
   "outputs": [],
   "source": [
    "boxplot_empresa1_abertura_plt = sns.boxplot(x = empresa_1[\"preco_abertura\"])\n",
    "boxplot_empresa1_abertura_plt.set_ylabel('Outubro', fontsize=14)\n",
    "\n",
    "boxplot_empresa1_abertura_plt.plot()\n",
    "\n",
    "\n",
    "plt.title('Preço de abertura da PETRE') # em R$ - Reais\n",
    "\n",
    "plt.show()"
   ]
  },
  {
   "cell_type": "markdown",
   "id": "25c68314",
   "metadata": {},
   "source": [
    "### >> Table with some correlations"
   ]
  },
  {
   "cell_type": "code",
   "execution_count": null,
   "id": "812cbfe9",
   "metadata": {},
   "outputs": [],
   "source": [
    "empresa_1[[\"preco_abertura\", \"preco_ultimo_negocio\",\"preco_minimo\",\"preco_maximo\",\"numero_negocios\",\"volume_total_negociado\"]].corr()"
   ]
  },
  {
   "cell_type": "markdown",
   "id": "1079d43d",
   "metadata": {},
   "source": [
    "# Data Visualization"
   ]
  },
  {
   "cell_type": "markdown",
   "id": "1bbcadb3",
   "metadata": {},
   "source": [
    "### - Scatter Plot"
   ]
  },
  {
   "cell_type": "code",
   "execution_count": null,
   "id": "f2a5b90a",
   "metadata": {},
   "outputs": [],
   "source": [
    "color=np.array([0.5, 0.5, 1]).reshape(1,-1)\n",
    "empresa_1.plot.scatter(x=\"preco_abertura\",y=\"preco_ultimo_negocio\", c=color)"
   ]
  },
  {
   "cell_type": "code",
   "execution_count": null,
   "id": "cbda0856",
   "metadata": {},
   "outputs": [],
   "source": [
    "empresa_1.plot.scatter(x=\"numero_negocios\",y=\"volume_total_negociado\",c=color)"
   ]
  },
  {
   "cell_type": "code",
   "execution_count": null,
   "id": "50426001",
   "metadata": {},
   "outputs": [],
   "source": [
    "empresa_1.plot.scatter(x=\"preco_minimo\",y=\"preco_maximo\",c=color)"
   ]
  },
  {
   "cell_type": "code",
   "execution_count": null,
   "id": "363c1bba",
   "metadata": {},
   "outputs": [],
   "source": [
    "empresa_1.plot.scatter(x=\"numero_negocios\",y=\"preco_ultimo_negocio\",c=color)"
   ]
  },
  {
   "cell_type": "code",
   "execution_count": null,
   "id": "49910793",
   "metadata": {},
   "outputs": [],
   "source": [
    "empresa_1.plot.scatter(x=\"volume_total_negociado\",y=\"preco_ultimo_negocio\",c=color)"
   ]
  },
  {
   "cell_type": "code",
   "execution_count": null,
   "id": "cdb483ec",
   "metadata": {},
   "outputs": [],
   "source": [
    "#Using seaborn\n",
    "sns.set_palette('Set1')"
   ]
  },
  {
   "cell_type": "markdown",
   "id": "9ca3ceca",
   "metadata": {},
   "source": [
    "###### > Creating others dataframes of some companies from the main dataframe and then concatenating them."
   ]
  },
  {
   "cell_type": "code",
   "execution_count": null,
   "id": "39ed9740",
   "metadata": {},
   "outputs": [],
   "source": [
    "empresa_2 = dados_acoes[dados_acoes[\"empresa\"] == \"VALEE\"]\n",
    "empresa_3 = dados_acoes[dados_acoes[\"empresa\"] == \"BBASE\"]\n",
    "empresa_4 = dados_acoes[dados_acoes[\"empresa\"] == \"MGLUE\"]\n",
    "empresa_5 = dados_acoes[dados_acoes[\"empresa\"] == \"COGNE\"]\n",
    "empresa_6 = dados_acoes[dados_acoes[\"empresa\"] == \"VIIAE\"]"
   ]
  },
  {
   "cell_type": "code",
   "execution_count": null,
   "id": "f5904f69",
   "metadata": {},
   "outputs": [],
   "source": [
    "empresas = pd.concat([empresa_1, empresa_2, empresa_3, empresa_4, empresa_5, empresa_6])"
   ]
  },
  {
   "cell_type": "code",
   "execution_count": null,
   "id": "6faba799",
   "metadata": {},
   "outputs": [],
   "source": [
    "empresas"
   ]
  },
  {
   "cell_type": "code",
   "execution_count": null,
   "id": "8b811e81",
   "metadata": {},
   "outputs": [],
   "source": [
    "plt.figure(figsize=(25,10))\n",
    "sns.lineplot(data=empresas, x=\"data_pregao\", y=\"numero_negocios\", hue=\"empresa\", dashes = False)\n",
    "# Lembrando que 202210 -> mes de outubro em 2022"
   ]
  },
  {
   "cell_type": "code",
   "execution_count": null,
   "id": "6a583a29",
   "metadata": {
    "scrolled": false
   },
   "outputs": [],
   "source": [
    "plt.figure(figsize=(25,10))\n",
    "sns.lineplot(data=empresas, x=\"data_pregao\", y=\"preco_ultimo_negocio\", hue=\"empresa\")"
   ]
  },
  {
   "cell_type": "code",
   "execution_count": null,
   "id": "6c3045cd",
   "metadata": {
    "scrolled": true
   },
   "outputs": [],
   "source": [
    "plt.figure(figsize=(25,10))\n",
    "sns.lineplot(data=empresas, x=\"data_pregao\", y=\"volume_total_negociado\", hue=\"empresa\")"
   ]
  },
  {
   "cell_type": "code",
   "execution_count": null,
   "id": "18b24f12",
   "metadata": {},
   "outputs": [],
   "source": [
    "sns.scatterplot(data=empresas, x='preco_ultimo_negocio', y='numero_negocios', hue=\"empresa\")"
   ]
  },
  {
   "cell_type": "code",
   "execution_count": null,
   "id": "945d763f",
   "metadata": {},
   "outputs": [],
   "source": [
    "empresa_1['numero_negocios'].plot(label = \"PETROBRÁS\", color = \"forestgreen\", figsize = (18,9))\n",
    "empresa_2['numero_negocios'].plot(label = \"BBASE\", color = 'brown')\n",
    "empresa_3['numero_negocios'].plot(label = \"VALE\", color = 'green')\n",
    "empresa_4['numero_negocios'].plot(label = \"MAGAZINE LUIZA\", color = 'blue')\n",
    "\n",
    "\n",
    "\n",
    "plt.title('Preço Máximo')\n",
    "plt.legend()\n",
    "plt.show()"
   ]
  },
  {
   "cell_type": "code",
   "execution_count": null,
   "id": "0b43c85c",
   "metadata": {},
   "outputs": [],
   "source": [
    "plt.hist(empresa_1['numero_negocios'], alpha=0.5, label='PETROBRÁS', bins=2, color='darkgreen')\n",
    "plt.hist(empresa_2['numero_negocios'], alpha=0.5, label='BBASE', bins=2, color='red')\n",
    "plt.hist(empresa_3['numero_negocios'], alpha=0.5, label='VALE', bins=2, color='g')\n",
    "plt.hist(empresa_4['numero_negocios'], alpha=0.5, label='MAGAZINE LUIZA', bins=2, color='darkblue')\n",
    "plt.title(\"Número de Negócios por Empresa\")\n",
    "plt.legend()\n",
    "plt.rcParams['figure.figsize'] = (12, 9)"
   ]
  },
  {
   "cell_type": "code",
   "execution_count": null,
   "id": "f11cb19e",
   "metadata": {},
   "outputs": [],
   "source": [
    "plt.figure(figsize=(25,10))\n",
    "sns.barplot(data=empresas, x=\"data_pregao\", y=\"preco_ultimo_negocio\", hue = \"empresa\")"
   ]
  },
  {
   "cell_type": "code",
   "execution_count": null,
   "id": "197ce5ce",
   "metadata": {
    "scrolled": true
   },
   "outputs": [],
   "source": [
    "fig = px.scatter(empresas, x = 'numero_negocios', y = 'preco_maximo', color = 'empresa', hover_name = \"empresa\", log_x = True, width = 800)\n",
    "fig.update_traces(marker=dict(size = 10,line = dict(width = 1)),selector=dict(mode = 'markers'))\n",
    "fig.update_layout(title = 'Análise de Nº de Negócios vs. Preço Máximo')\n",
    "fig.update_xaxes(title = 'Nº de Negócios')\n",
    "fig.update_yaxes(title = 'Preço Máximo')\n",
    "fig.show()"
   ]
  },
  {
   "cell_type": "code",
   "execution_count": null,
   "id": "d4029652",
   "metadata": {
    "scrolled": true
   },
   "outputs": [],
   "source": [
    "sns.barplot(data=empresas, y=\"empresa\", x=\"numero_negocios\", hue=\"empresa\", saturation=0.45, orient = 'h', linewidth=3, dodge=False)"
   ]
  },
  {
   "cell_type": "code",
   "execution_count": null,
   "id": "7fe8ff0e",
   "metadata": {},
   "outputs": [],
   "source": [
    "empresas_lite = empresas[[\"data_pregao\", \"empresa\", \"preco_abertura\", \"preco_maximo\", \"quantidade_papeis_negociados\", \"volume_total_negociado\" ]]"
   ]
  },
  {
   "cell_type": "code",
   "execution_count": null,
   "id": "7189f7a9",
   "metadata": {},
   "outputs": [],
   "source": [
    "empresas_lite['quantidade_papeis_negociados'].unique()"
   ]
  },
  {
   "cell_type": "code",
   "execution_count": null,
   "id": "f0b2cc3e",
   "metadata": {},
   "outputs": [],
   "source": [
    "emp1 = empresas_lite.loc[(empresas_lite['empresa'] == 'PETRE') & (empresas_lite['preco_maximo'] == 49.77)]\n",
    "emp2 = empresas_lite.loc[(empresas_lite['empresa'] == 'VALEE') & (empresas_lite['preco_maximo'] == 113.66)]\n",
    "emp3 = empresas_lite.loc[(empresas_lite['empresa'] == 'BBASE') & (empresas_lite['preco_maximo'] > 80)]\n",
    "emp4 = empresas_lite.loc[(empresas_lite['empresa'] == 'MGLUE') & (empresas_lite['preco_maximo'] > 26.20)]"
   ]
  },
  {
   "cell_type": "code",
   "execution_count": null,
   "id": "2805318a",
   "metadata": {},
   "outputs": [],
   "source": [
    "list = []\n",
    "for value in empresas_lite.columns.values:\n",
    "    list.append(value)"
   ]
  },
  {
   "cell_type": "code",
   "execution_count": null,
   "id": "f65bf0fa",
   "metadata": {},
   "outputs": [],
   "source": [
    "df = pd.DataFrame(emp1, columns = list)"
   ]
  },
  {
   "cell_type": "code",
   "execution_count": null,
   "id": "d544d410",
   "metadata": {},
   "outputs": [],
   "source": [
    "dff = pd.concat([emp1, emp2, emp3, emp4])"
   ]
  },
  {
   "cell_type": "markdown",
   "id": "79e6f255",
   "metadata": {},
   "source": [
    "# - K-means (Algoritmo de Lloyd Max)"
   ]
  },
  {
   "cell_type": "code",
   "execution_count": null,
   "id": "bc01c964",
   "metadata": {},
   "outputs": [],
   "source": [
    "#import k-means module to work with\n",
    "from sklearn.cluster import KMeans"
   ]
  },
  {
   "cell_type": "markdown",
   "id": "63d14c5a",
   "metadata": {},
   "source": [
    "## -- Comparing Last Price with Number of Trades"
   ]
  },
  {
   "cell_type": "markdown",
   "id": "ac7a747e",
   "metadata": {},
   "source": [
    "### + Company: Petrobrás"
   ]
  },
  {
   "cell_type": "markdown",
   "id": "d61afa42",
   "metadata": {},
   "source": [
    "#### > Ellbow Method to determine the number of clusters"
   ]
  },
  {
   "cell_type": "code",
   "execution_count": null,
   "id": "e588bb8f",
   "metadata": {},
   "outputs": [],
   "source": [
    "df_group = empresa_1[['preco_ultimo_negocio', 'numero_negocios']]"
   ]
  },
  {
   "cell_type": "code",
   "execution_count": null,
   "id": "356e642a",
   "metadata": {},
   "outputs": [],
   "source": [
    "disps = []\n",
    "scaler_object = StandardScaler()\n",
    "df_group_elb = scaler_object.fit_transform(df_group)\n",
    "for i in range(1,10):\n",
    "    kmeans = KMeans(n_clusters=i)\n",
    "    kmeans.fit(df_group_elb)\n",
    "    disps.append(kmeans.inertia_)\n",
    "sns.lineplot(x=range(1,10), y=disps)"
   ]
  },
  {
   "cell_type": "markdown",
   "id": "198ee5ae",
   "metadata": {},
   "source": [
    "### > Separate the dataset into groups"
   ]
  },
  {
   "cell_type": "code",
   "execution_count": null,
   "id": "cf9d3a50",
   "metadata": {},
   "outputs": [],
   "source": [
    "kmeans = KMeans(n_clusters=5)\n",
    "kmeans.fit(df_group)"
   ]
  },
  {
   "cell_type": "code",
   "execution_count": null,
   "id": "5822d718",
   "metadata": {},
   "outputs": [],
   "source": [
    "sns.scatterplot(data=df_group, x='preco_ultimo_negocio', y='numero_negocios', hue=kmeans.labels_)"
   ]
  },
  {
   "cell_type": "markdown",
   "id": "d11c47da",
   "metadata": {},
   "source": [
    "### + Company: Cogna"
   ]
  },
  {
   "cell_type": "code",
   "execution_count": null,
   "id": "e0e38fd3",
   "metadata": {},
   "outputs": [],
   "source": [
    "df2_group = empresa_6[['preco_ultimo_negocio', 'numero_negocios']]\n",
    "disps = []\n",
    "scaler_object = StandardScaler()\n",
    "df2_group_elb = scaler_object.fit_transform(df2_group)\n",
    "for i in range(1,10):\n",
    "    kmeans = KMeans(n_clusters=i)\n",
    "    kmeans.fit(df2_group_elb)\n",
    "    disps.append(kmeans.inertia_)\n",
    "sns.lineplot(x=range(1,10), y=disps)"
   ]
  },
  {
   "cell_type": "code",
   "execution_count": null,
   "id": "c325eca8",
   "metadata": {},
   "outputs": [],
   "source": [
    "kmeans = KMeans(n_clusters=5)\n",
    "kmeans.fit(df2_group)\n",
    "sns.scatterplot(data=df2_group, x='preco_ultimo_negocio', y='numero_negocios', hue=kmeans.labels_)"
   ]
  },
  {
   "cell_type": "markdown",
   "id": "b625ac22",
   "metadata": {},
   "source": [
    "## -- Comparing Total Trading Volume with Opening Price"
   ]
  },
  {
   "cell_type": "markdown",
   "id": "dd65ba3e",
   "metadata": {},
   "source": [
    "### + Company: Petrobrás"
   ]
  },
  {
   "cell_type": "code",
   "execution_count": null,
   "id": "56222607",
   "metadata": {},
   "outputs": [],
   "source": [
    "df_group_comparing2 = empresa_1[['volume_total_negociado', 'preco_abertura']]\n",
    "disps = []\n",
    "scaler_object = StandardScaler()\n",
    "df_group_elb_2 = scaler_object.fit_transform(df_group_comparing2)\n",
    "for i in range(1,10):\n",
    "    kmeans = KMeans(n_clusters=i)\n",
    "    kmeans.fit(df_group_elb_2)\n",
    "    disps.append(kmeans.inertia_)\n",
    "sns.lineplot(x=range(1,10), y=disps)"
   ]
  },
  {
   "cell_type": "code",
   "execution_count": null,
   "id": "dcc6555e",
   "metadata": {},
   "outputs": [],
   "source": [
    "kmeans = KMeans(n_clusters=3)\n",
    "kmeans.fit(df_group_comparing2)\n",
    "sns.scatterplot(data=df_group_comparing2, x='volume_total_negociado', y='preco_abertura', hue=kmeans.labels_, palette=\"deep\")"
   ]
  },
  {
   "cell_type": "markdown",
   "id": "c32d209d",
   "metadata": {},
   "source": [
    "### + Company: Cogna"
   ]
  },
  {
   "cell_type": "code",
   "execution_count": null,
   "id": "c3fc90e6",
   "metadata": {},
   "outputs": [],
   "source": [
    "df2_group_comparing2 = empresa_1[['volume_total_negociado', 'preco_abertura']]\n",
    "disps = []\n",
    "scaler_object = StandardScaler()\n",
    "df2_group_elb_2 = scaler_object.fit_transform(df2_group_comparing2)\n",
    "for i in range(1,10):\n",
    "    kmeans = KMeans(n_clusters=i)\n",
    "    kmeans.fit(df2_group_elb_2)\n",
    "    disps.append(kmeans.inertia_)\n",
    "sns.lineplot(x=range(1,10), y=disps)"
   ]
  },
  {
   "cell_type": "code",
   "execution_count": null,
   "id": "dd67484a",
   "metadata": {},
   "outputs": [],
   "source": [
    "kmeans = KMeans(n_clusters=3)\n",
    "kmeans.fit(df2_group_comparing2)\n",
    "sns.scatterplot(data=df2_group_comparing2, x='volume_total_negociado', y='preco_abertura', hue=kmeans.labels_, palette=\"deep\")"
   ]
  },
  {
   "cell_type": "markdown",
   "id": "17566cb1",
   "metadata": {},
   "source": [
    "#### Algum padrão foi dectado?"
   ]
  },
  {
   "cell_type": "code",
   "execution_count": null,
   "id": "d865cc03",
   "metadata": {},
   "outputs": [],
   "source": []
  },
  {
   "cell_type": "markdown",
   "id": "9cdb26bc",
   "metadata": {},
   "source": [
    "#### Alguma nova pergunta foi descoberta ao analisar os agrupamentos?"
   ]
  },
  {
   "cell_type": "code",
   "execution_count": null,
   "id": "8cb53eec",
   "metadata": {},
   "outputs": [],
   "source": []
  }
 ],
 "metadata": {
  "colab": {
   "collapsed_sections": [
    "d245a97b",
    "ceaf8c73",
    "453838c0",
    "b257391d"
   ],
   "provenance": []
  },
  "kernelspec": {
   "display_name": "Python 3 (ipykernel)",
   "language": "python",
   "name": "python3"
  },
  "language_info": {
   "codemirror_mode": {
    "name": "ipython",
    "version": 3
   },
   "file_extension": ".py",
   "mimetype": "text/x-python",
   "name": "python",
   "nbconvert_exporter": "python",
   "pygments_lexer": "ipython3",
   "version": "3.9.12"
  },
  "vscode": {
   "interpreter": {
    "hash": "1574dca48e308cc3651c67f51f75a30afa86eab0bc083143ae8f6c47936081de"
   }
  }
 },
 "nbformat": 4,
 "nbformat_minor": 5
}
